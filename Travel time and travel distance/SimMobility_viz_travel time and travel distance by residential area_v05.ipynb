{
 "cells": [
  {
   "cell_type": "markdown",
   "id": "3468b52c",
   "metadata": {},
   "source": [
    "# SimMobility visualization - Travel time and distance by residential area"
   ]
  },
  {
   "cell_type": "markdown",
   "id": "fd76452a",
   "metadata": {},
   "source": [
    "Author: Lukas Ralf Schinzel, Master student at Technical University of Denmark (DTU)"
   ]
  },
  {
   "cell_type": "markdown",
   "id": "bf5a09a9",
   "metadata": {},
   "source": [
    "**1. Information on Kepler GL Kupyter**"
   ]
  },
  {
   "cell_type": "markdown",
   "id": "09bda807",
   "metadata": {},
   "source": [
    "Documentation and installation of Kepler GL for Jupyter: https://docs.kepler.gl/docs/keplergl-jupyter  \n",
    "User guide Kepler GL: https://docs.kepler.gl/docs/user-guides  \n",
    "It is recommended to use Kepler GL for Jupyter in a Jupyter Notebook, not in Jupyter Lab."
   ]
  },
  {
   "cell_type": "markdown",
   "id": "c7e245d1",
   "metadata": {},
   "source": [
    "**2. Visualization concept**"
   ]
  },
  {
   "cell_type": "markdown",
   "id": "af772efb",
   "metadata": {},
   "source": [
    "This visualization aims to provide insights into how travel times and distance changes for the simulated population when changing from one SimMobility scenario to another. In order to find out how travel time develops for different residential areas (i.e. how average travel time and distance for individuals living in a specific zone changes), a choropleth is created. It shows changes in travel time according to place of residence in the city. Colors encode the average daily travel time for the individuals living in a specific zone. In this way, it can for example be identified whether more remote parts of the city are disadvantaged by a decision or whether their accessibility is increased.  \n",
    "The map visualization is complemented by bar charts in order to provide insights into changes for certain demographic groups. In this way, it can for example be discovered, whether low income groups are disadvantaged when changing from one scenario to the other.\n",
    "\n",
    "The only input required by the user is to specify the input parameters in section 6. Other than that, it is only expected to rerun the notebook for each new visualization or when input parameters are changed.\n",
    "\n",
    "The default configuration for the visualization in Kepler GL is saved in a Python script, which is automatically loaded from a configuration file when the visualization is created. The visualization can be adjusted using Kepler GL’s user interface."
   ]
  },
  {
   "cell_type": "markdown",
   "id": "164027e0",
   "metadata": {},
   "source": [
    "**3. Required data**\n",
    "- subtrip metrics\n",
    "- population (individual.csv)\n",
    "- households\n",
    "- zones\n",
    "- income categories\n",
    "- education categories\n",
    "- employment status categories"
   ]
  },
  {
   "cell_type": "markdown",
   "id": "dc4434ce",
   "metadata": {},
   "source": [
    "**4. Libraries**"
   ]
  },
  {
   "cell_type": "code",
   "execution_count": 1,
   "id": "0a8fe296",
   "metadata": {},
   "outputs": [],
   "source": [
    "# import libraries\n",
    "import numpy as np\n",
    "import pandas as pd\n",
    "import geopandas as gpd\n",
    "import matplotlib.pyplot as plt\n",
    "%matplotlib inline\n",
    "import matplotlib.ticker as mtick\n",
    "from keplergl import KeplerGl"
   ]
  },
  {
   "cell_type": "markdown",
   "id": "e081da31",
   "metadata": {},
   "source": [
    "**5. Functions**"
   ]
  },
  {
   "cell_type": "code",
   "execution_count": 2,
   "id": "f5786a40",
   "metadata": {},
   "outputs": [],
   "source": [
    "def load_subtrip_metrics(filepath:str, has_headers=False):\n",
    "    \n",
    "    '''Loads subtrip metrics from CSV into pandas data frame.'''\n",
    "    \n",
    "    # relevant_cols = ['person_id', 'trip_id', 'subtrip_id', 'mode', 'start_time', 'end_time', 'travel_time', 'total_dist']\n",
    "\n",
    "    # define headers\n",
    "    headers_sm = ['person_id', 'trip_id', 'subtrip_id', 'origin_type', 'origin_node', 'origin_taz', 'destination_type', 'destination_node',\n",
    "                  'destination_taz', 'mode', 'start_time', 'end_time', 'travel_time', 'total_distance', 'cbd_entry_node', 'cbd_exit_node', 'cbd_entry_time',\n",
    "                  'cbd_exit_time', 'cbd_travel_time', 'non_cbd_travel_time', 'cbd_distance', 'non_cbd_distance']\n",
    "\n",
    "    # define date types\n",
    "    dtypes_sm = {'person_id': 'str', 'trip_id': 'str', 'subtrip_id': 'str', 'origin_type': 'str', 'origin_node': 'str', 'origin_taz': 'str', 'destination_type': 'str',\n",
    "                 'destination_node': 'str', 'destination_taz': 'str', 'mode': 'str', 'start_time': 'str', 'end_time': 'str', 'travel_time': 'float', 'total_distance': 'float',\n",
    "                 'cbd_entry_node': 'str', 'cbd_exit_node': 'str', 'cbd_entry_time': 'str', 'cbd_exit_time': 'str', 'cbd_travel_time': 'float', 'non_cbd_travel_time': 'float',\n",
    "                 'cbd_distance': 'float', 'non_cbd_distance': 'float'}\n",
    "\n",
    "    # define datetime columns\n",
    "    datetime_cols_sm = ['start_time', 'end_time', 'cbd_entry_time', 'cbd_exit_time']\n",
    "\n",
    "    # load subtrip metrics\n",
    "    if not has_headers:\n",
    "        df_sm = pd.read_csv(filepath, names=headers_sm, index_col=False, dtype=dtypes_sm, parse_dates=datetime_cols_sm)\n",
    "    elif has_headers:\n",
    "        df_sm = pd.read_csv(filepath, index_col=False, dtype=dtypes_sm, parse_dates=datetime_cols_sm)\n",
    "    else:\n",
    "        raise Exception(\"Please specify has_headers as either True or False.\")\n",
    "        \n",
    "    # manipulation person IDs to fit format in population data\n",
    "    df_sm['person_id'] = df_sm['person_id'].str.split('-', expand=True)[0] # remove digits after the dash\n",
    "    df_sm['person_id'] = df_sm['person_id'].str[0:9] # reduce to 9 figure number (MIGHT NEED TO BE CHANGED DEPENDING ON POPULATION DATA)\n",
    "        \n",
    "    return df_sm"
   ]
  },
  {
   "cell_type": "code",
   "execution_count": 3,
   "id": "80574bbd",
   "metadata": {},
   "outputs": [],
   "source": [
    "def load_population(filepath:str, df_household):\n",
    "    \n",
    "    '''Loads population data from CSV (individual.csv) and adds home zone from household data.'''\n",
    "    \n",
    "    df_population = pd.read_csv(filepath)\n",
    "    df_population = df_population.rename(columns={'id': 'person_id'})\n",
    "    df_population['person_id'] = df_population['person_id'].astype('str')\n",
    "    df_population = df_population.set_index('person_id')\n",
    "    df_population = df_population.join(other=df_household.set_index('id')['taz_id'], on='hhid')\n",
    "\n",
    "    return df_population"
   ]
  },
  {
   "cell_type": "code",
   "execution_count": 4,
   "id": "01ef1d54",
   "metadata": {},
   "outputs": [],
   "source": [
    "def get_travel_info(df_subtrip_metrics):\n",
    "    \n",
    "    '''Generates total travel time and total travel distance for population from subtrip metrics.'''\n",
    "    \n",
    "    df_subtrip_metrics = df_subtrip_metrics[['person_id', 'travel_time', 'total_dist']]\n",
    "    df_travel_info = df_subtrip_metrics.groupby('person_id').sum()\n",
    "    \n",
    "    return df_travel_info"
   ]
  },
  {
   "cell_type": "code",
   "execution_count": 5,
   "id": "e29c3799",
   "metadata": {},
   "outputs": [],
   "source": [
    "def get_travel_changes(df_sm_A, df_sm_B, df_population):\n",
    "    \n",
    "    '''Combines travel info from two scenarios A and B and calculates changes in\n",
    "    travel time and distance for the population.'''\n",
    "    \n",
    "    # generate travel info\n",
    "    df_travel_info_A = get_travel_info(df_sm_A)\n",
    "    df_travel_info_B = get_travel_info(df_sm_B)\n",
    "\n",
    "    # combine them\n",
    "    df_travel_info = df_travel_info_A.join(other=df_travel_info_B, on='person_id', lsuffix='_A', rsuffix='_B')\n",
    "    \n",
    "    # rename columns\n",
    "    df_travel_info = df_travel_info.rename(columns={'travel_time_A':'travel_time_A_[h]',\n",
    "                                                    'travel_time_B':'travel_time_B_[h]',\n",
    "                                                    'total_dist_A': 'total_dist_A_[m]',\n",
    "                                                    'total_dist_B': 'total_dist_B_[m]'})\n",
    "\n",
    "    # calculate differences\n",
    "    df_travel_info['delta_travel_time_[h]'] = df_travel_info['travel_time_B_[h]'] - df_travel_info['travel_time_A_[h]']\n",
    "    df_travel_info['delta_total_dist_[m]'] = df_travel_info['total_dist_B_[m]'] - df_travel_info['total_dist_A_[m]']\n",
    "\n",
    "    # join on population data\n",
    "    df_population_travel = df_population.join(other=df_travel_info, on='person_id', how='inner')\n",
    "    \n",
    "    return df_population_travel"
   ]
  },
  {
   "cell_type": "code",
   "execution_count": 6,
   "id": "5e505ead",
   "metadata": {},
   "outputs": [],
   "source": [
    "def plot_delta_travel_time_and_distance_by_demographics(df_population_travel, group_by):\n",
    "    \n",
    "    '''Groups travel data by demographic group and plots respective travel times and distances\n",
    "    in a horizontal bar chart.'''\n",
    "    \n",
    "    if group_by == 'income':\n",
    "        grouping_arg = 'income'\n",
    "        categories = income_categories['name']\n",
    "    elif group_by == 'education':\n",
    "        grouping_arg = 'education_type_id'\n",
    "        categories = education_categories['name']\n",
    "    elif group_by == 'employment_status':\n",
    "        grouping_arg = 'person_type_id'\n",
    "        categories = employment_categories['name']\n",
    "    else:\n",
    "        raise Exception(\"Please specify 'group_by' argument as either 'income', 'education' or 'employment_status'.\")\n",
    "        \n",
    "    # group by income group\n",
    "    df = df_population_travel.groupby(grouping_arg).sum()\n",
    "    \n",
    "    # calculate percentage changes in travel time and distance\n",
    "    df['delta_travel_time_percentage'] = (df['travel_time_B_[h]'] - df['travel_time_A_[h]'])*100 / df['travel_time_A_[h]']\n",
    "    df['delta_total_dist_percentage'] = (df['total_dist_B_[m]'] - df['total_dist_A_[m]'])*100 / df['total_dist_A_[m]']\n",
    "        \n",
    "    # create figure\n",
    "    print('\\n Changes by {}:'.format(group_by.replace('_',' ')))\n",
    "    fig, ax = plt.subplots(1,2, figsize=(13.5,len(df)/2), sharey=False, constrained_layout=True)\n",
    "    if group_by == 'income':\n",
    "        xlabels = categories[df.index] + ' ' + income_categories['currency'][df.index].str.upper()\n",
    "    else:\n",
    "        xlabels = categories[df.index]\n",
    "        \n",
    "    # create travel time plot by income group\n",
    "    ax[0].barh(xlabels, df.delta_travel_time_percentage, color=(0.77, 0.0, 0.05))\n",
    "    ax[0].xaxis.set_major_formatter(mtick.PercentFormatter())\n",
    "    ax[0].set_xlabel('Δ travel time')\n",
    "    ax[0].set_title('Changes in overall daily travel time [h] by {}'.format(group_by.replace('_',' ')), fontsize=12)\n",
    "    \n",
    "    # create travel distance plot by income group\n",
    "    ax[1].barh(xlabels, df.delta_total_dist_percentage, color=(0, 0, 0.4))\n",
    "    ax[1].xaxis.set_major_formatter(mtick.PercentFormatter())\n",
    "    ax[1].set_xlabel('Δ travel distance')\n",
    "    ax[1].set_title('Changes in overall daily travel distance [m] by {}'.format(group_by.replace('_',' ')), fontsize=12)\n",
    "    \n",
    "    plt.show()"
   ]
  },
  {
   "cell_type": "code",
   "execution_count": 7,
   "id": "88cd8575",
   "metadata": {},
   "outputs": [],
   "source": [
    "def load_zones(filepath:str, epsg):\n",
    "    \n",
    "    '''Loads zones from shapefile (zone_filename.shp) into geopandas data frame.'''\n",
    "    \n",
    "    zones = gpd.read_file(filepath)\n",
    "    zones = zones.set_crs(epsg=str(epsg))\n",
    "    zones = zones.to_crs(epsg='4326') # necessary if correct CRS is set above?\n",
    "    \n",
    "    return zones"
   ]
  },
  {
   "cell_type": "code",
   "execution_count": 14,
   "id": "365897cf",
   "metadata": {},
   "outputs": [],
   "source": [
    "def get_travel_changes_per_zone(df_population_travel_info):\n",
    "    \n",
    "    '''Aggregates population travel information (df_population_travel_info) to zones.'''\n",
    "    \n",
    "    # group by zones\n",
    "    df_zones_travel_info = df_population_travel_info.groupby('taz_id').mean()\n",
    "\n",
    "    # add percentage changes\n",
    "    df_zones_travel_info['delta_travel_time_[%]'] = df_zones_travel_info['delta_travel_time_[h]'] / \\\n",
    "                                                    df_zones_travel_info['travel_time_A_[h]']\n",
    "    df_zones_travel_info['delta_total_dist_[%]'] = df_zones_travel_info['delta_total_dist_[m]'] / \\\n",
    "                                                   df_zones_travel_info['total_dist_A_[m]']\n",
    "\n",
    "    # replace infinite values with NaN (from: https://stackoverflow.com/questions/17477979/dropping-infinite-values-from-dataframes-in-pandas)\n",
    "    df_zones_travel_info.replace([np.inf, -np.inf], np.nan, inplace=True)\n",
    "\n",
    "    # add zone polygons\n",
    "    df_zones_travel_info_2 = df_zones_travel_info.join(other=zones.set_index('TAZ')['geometry'], on='taz_id')\n",
    "\n",
    "    # convert to geopandas data frame\n",
    "    df_zones_travel_info_2 = gpd.GeoDataFrame(df_zones_travel_info_2, geometry='geometry')\n",
    "    \n",
    "    return df_zones_travel_info_2"
   ]
  },
  {
   "cell_type": "markdown",
   "id": "f90768d1",
   "metadata": {},
   "source": [
    "**6. Create visualization**"
   ]
  },
  {
   "cell_type": "markdown",
   "id": "8365705d",
   "metadata": {},
   "source": [
    "Specify filepaths for data: "
   ]
  },
  {
   "cell_type": "code",
   "execution_count": 8,
   "id": "c917e9e4",
   "metadata": {},
   "outputs": [],
   "source": [
    "# subtrip metrics for scenario A and B\n",
    "filepath_sm_A = '../Data/Boston/DTU/Boston_Lukas/subtrip_metrics_full_run_prototype.csv'\n",
    "filepath_sm_B = '../Data/Boston/DTU/Boston_Lukas/subtrip_metrics_feddback.csv'\n",
    "\n",
    "# population\n",
    "filepath_population = '../Data/Boston/DTU/Boston_Lukas/individual_by_id_for_preday_new.csv'\n",
    "\n",
    "# households\n",
    "filepath_households = '../Data/Boston/DTU/Boston_Lukas/household_cr.csv'\n",
    "\n",
    "# zones\n",
    "filepath_zones = '../Data/Boston/DTU/Boston_Lukas/zone shapefiles/CTPS_TOWN_TAZ_2012_POLYM.shp'\n",
    "\n",
    "# income categories\n",
    "filepath_income_categories = '../Data/Boston/DTU/Boston_Lukas/income_category.csv' # this might be from Singapore!\n",
    "\n",
    "# education categories\n",
    "filepath_education_categories = '../Data/Boston/DTU/Boston_Lukas/education.csv'\n",
    "\n",
    "# employment status categories\n",
    "filepath_employment_categories = '../Data/Boston/DTU/Boston_Lukas/employment_status.csv'"
   ]
  },
  {
   "cell_type": "markdown",
   "id": "e72c24c3",
   "metadata": {},
   "source": [
    "Specify data format: Do subtrip metrics files contain headers?"
   ]
  },
  {
   "cell_type": "code",
   "execution_count": 9,
   "id": "671dd9c8",
   "metadata": {},
   "outputs": [],
   "source": [
    "sm_A_has_headers = True\n",
    "sm_B_has_headers = True"
   ]
  },
  {
   "cell_type": "markdown",
   "id": "3560550c",
   "metadata": {},
   "source": [
    "Specify EPSG in which zones are stored:"
   ]
  },
  {
   "cell_type": "code",
   "execution_count": 10,
   "id": "343d860c",
   "metadata": {},
   "outputs": [],
   "source": [
    "epsg = '26986'"
   ]
  },
  {
   "cell_type": "markdown",
   "id": "317071bc",
   "metadata": {},
   "source": [
    "**7. Create visualization:**"
   ]
  },
  {
   "cell_type": "code",
   "execution_count": 11,
   "id": "8d46ad94",
   "metadata": {},
   "outputs": [],
   "source": [
    "# load population data\n",
    "df_household = pd.read_csv(filepath_households)\n",
    "df_population = load_population(filepath_population, df_household)\n",
    "\n",
    "income_categories = pd.read_csv(filepath_income_categories, index_col='id')\n",
    "education_categories = pd.read_csv(filepath_education_categories, index_col='id')\n",
    "employment_categories = pd.read_csv(filepath_employment_categories, index_col='id')"
   ]
  },
  {
   "cell_type": "code",
   "execution_count": 12,
   "id": "52f46be4",
   "metadata": {},
   "outputs": [],
   "source": [
    "# load geographic data\n",
    "zones = load_zones(filepath_zones,epsg=epsg)"
   ]
  },
  {
   "cell_type": "code",
   "execution_count": 13,
   "id": "a03a78cf",
   "metadata": {},
   "outputs": [],
   "source": [
    "# load subtrip metrics\n",
    "df_sm_A = load_subtrip_metrics(filepath_sm_A, has_headers=sm_A_has_headers)\n",
    "df_sm_B = load_subtrip_metrics(filepath_sm_B, has_headers=sm_B_has_headers)"
   ]
  },
  {
   "cell_type": "code",
   "execution_count": 24,
   "id": "4ba56eaf",
   "metadata": {},
   "outputs": [],
   "source": [
    "# get travel info for population\n",
    "df_population_travel_info = get_travel_changes(df_sm_A, df_sm_B, df_population)  \n",
    "\n",
    "# aggregate travel info to zones (by this, no filtering by demographics possible in Kepler GL)\n",
    "df_zones_travel_info_2 = get_travel_changes_per_zone(df_population_travel_info)"
   ]
  },
  {
   "cell_type": "code",
   "execution_count": 25,
   "id": "4bc21440",
   "metadata": {},
   "outputs": [],
   "source": [
    "# load the map configuration saved\n",
    "%run travel_time_config.py # --> stores configuration in variable 'config'"
   ]
  },
  {
   "cell_type": "code",
   "execution_count": null,
   "id": "b6dce5e0",
   "metadata": {
    "scrolled": false
   },
   "outputs": [],
   "source": [
    "# load the map\n",
    "map_travel_info = KeplerGl(height=600,\n",
    "                           data={'travel_info': df_zones_travel_info_2},\n",
    "                           config=config,\n",
    "                          )\n",
    "map_travel_info"
   ]
  },
  {
   "cell_type": "markdown",
   "id": "331aaccc",
   "metadata": {},
   "source": [
    "(Note: Regenerating the map requires to regenerate the input data frame.)"
   ]
  },
  {
   "cell_type": "code",
   "execution_count": 19,
   "id": "544bd840",
   "metadata": {},
   "outputs": [
    {
     "name": "stdout",
     "output_type": "stream",
     "text": [
      "\n",
      " Changes by income:\n"
     ]
    },
    {
     "data": {
      "image/png": "[encoded data removed]",
      "text/plain": [
       "<Figure size 972x288 with 2 Axes>"
      ]
     },
     "metadata": {
      "needs_background": "light"
     },
     "output_type": "display_data"
    },
    {
     "name": "stdout",
     "output_type": "stream",
     "text": [
      "\n",
      " Changes by education:\n"
     ]
    },
    {
     "data": {
      "image/png": "[encoded data removed]",
      "text/plain": [
       "<Figure size 972x252 with 2 Axes>"
      ]
     },
     "metadata": {
      "needs_background": "light"
     },
     "output_type": "display_data"
    },
    {
     "name": "stdout",
     "output_type": "stream",
     "text": [
      "\n",
      " Changes by employment status:\n"
     ]
    },
    {
     "data": {
      "image/png": "[encoded data removed]",
      "text/plain": [
       "<Figure size 972x144 with 2 Axes>"
      ]
     },
     "metadata": {
      "needs_background": "light"
     },
     "output_type": "display_data"
    }
   ],
   "source": [
    "# plot additional informative graphs\n",
    "plot_delta_travel_time_and_distance_by_demographics(df_population_travel_info, group_by = 'income')\n",
    "plot_delta_travel_time_and_distance_by_demographics(df_population_travel_info, group_by = 'education')\n",
    "plot_delta_travel_time_and_distance_by_demographics(df_population_travel_info, group_by = 'employment_status')"
   ]
  },
  {
   "cell_type": "markdown",
   "id": "c04912d0",
   "metadata": {},
   "source": [
    "**8. Optional**"
   ]
  },
  {
   "cell_type": "markdown",
   "id": "e5a7265a",
   "metadata": {},
   "source": [
    "Saving new map configuration (optional):  \n",
    "(mind that current configuration files will be overwritten if stored with same filename in same folder!)"
   ]
  },
  {
   "cell_type": "raw",
   "id": "0d2cc3b8",
   "metadata": {},
   "source": [
    "# Save map_activities configuration to a file\n",
    "with open('travel_time_config.py', 'w') as f:\n",
    "    f.write('config = {}'.format(map_travel_info.config))"
   ]
  }
 ],
 "metadata": {
  "kernelspec": {
   "display_name": "Python 3",
   "language": "python",
   "name": "python3"
  },
  "language_info": {
   "codemirror_mode": {
    "name": "ipython",
    "version": 3
   },
   "file_extension": ".py",
   "mimetype": "text/x-python",
   "name": "python",
   "nbconvert_exporter": "python",
   "pygments_lexer": "ipython3",
   "version": "3.8.8"
  }
 },
 "nbformat": 4,
 "nbformat_minor": 5
}
