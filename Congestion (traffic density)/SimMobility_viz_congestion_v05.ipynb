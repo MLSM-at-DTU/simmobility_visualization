{
 "cells": [
  {
   "cell_type": "markdown",
   "id": "5638caff-e7b7-4604-b4c0-39a4f4f0ce2c",
   "metadata": {},
   "source": [
    "# SimMobility visualization - Congestion (traffic density)"
   ]
  },
  {
   "cell_type": "markdown",
   "id": "1cd3089b",
   "metadata": {},
   "source": [
    "Author: Lukas Ralf Schinzel, Master student at Technical University of Denmark (DTU)"
   ]
  },
  {
   "cell_type": "markdown",
   "id": "d223f0d7",
   "metadata": {},
   "source": [
    "**1. Information on Kepler GL Kupyter**"
   ]
  },
  {
   "cell_type": "markdown",
   "id": "e710667c",
   "metadata": {},
   "source": [
    "Documentation and installation of Kepler GL for Jupyter: https://docs.kepler.gl/docs/keplergl-jupyter  \n",
    "User guide Kepler GL: https://docs.kepler.gl/docs/user-guides  \n",
    "It is recommended to use Kepler GL for Jupyter in a Jupyter Notebook, not in Jupyter Lab."
   ]
  },
  {
   "cell_type": "markdown",
   "id": "8274b90a",
   "metadata": {},
   "source": [
    "**2. Visualization concept**"
   ]
  },
  {
   "cell_type": "markdown",
   "id": "fc3f6724",
   "metadata": {},
   "source": [
    "This visualization aims to compare two SimMobility scenarios with respect to congestion (traffic density) in the form of a linestring plot representing the road network. The coding of a link's stroke width is based on its traffic density. By means of selecting a temporal resolution, it is possible to choose between a static display (average traffic density during the day) and an animated display (development of the average traffic density over the 24 hours of a day). The dual-map view function of Kepler GL is used in order to be able to compare the traffic densities of two scenarios or of two different time points side by side.\n",
    "\n",
    "The only input required by the user is to specify the input parameters in section 6. Other than that, it is only expected to rerun the notebook for each new visualization or when input parameters are changed.\n",
    "\n",
    "The default configuration for the visualization in Kepler GL is saved in a Python script, which is automatically loaded from a configuration file when the visualization is created. The visualization can be adjusted using Kepler GL’s user interface."
   ]
  },
  {
   "cell_type": "markdown",
   "id": "63845c80-800e-4606-bea5-225f83aa1cec",
   "metadata": {},
   "source": [
    "**3. Required data**\n",
    "- Link statistics\n",
    "- Links (network)\n",
    "- Configuration files"
   ]
  },
  {
   "cell_type": "markdown",
   "id": "f3adc2ef-5615-4ce3-93c9-2562d27e279e",
   "metadata": {},
   "source": [
    "**4. Libraries**"
   ]
  },
  {
   "cell_type": "code",
   "execution_count": 1,
   "id": "316a2ba9-dc25-4381-9a20-50b1e4e05207",
   "metadata": {},
   "outputs": [],
   "source": [
    "# import libraries\n",
    "import numpy as np\n",
    "import pandas as pd\n",
    "import datetime as dt\n",
    "from shapely.geometry import Point, LineString\n",
    "import geopandas as gpd\n",
    "import matplotlib.pyplot as plt\n",
    "%matplotlib inline\n",
    "from keplergl import KeplerGl"
   ]
  },
  {
   "cell_type": "markdown",
   "id": "86b5bd54-b3a5-46c6-82ec-03395267c511",
   "metadata": {},
   "source": [
    "**5. Functions**"
   ]
  },
  {
   "cell_type": "code",
   "execution_count": 2,
   "id": "e9c94912-267a-4c35-8f07-2eb013b85aad",
   "metadata": {},
   "outputs": [],
   "source": [
    "def load_link_stats(filepath:str):\n",
    "    \n",
    "    '''Loads link statistics from CSV file.'''\n",
    "\n",
    "    # define column names\n",
    "    headers_link_stats = ['type', 'update_interval', 'id', 'length', 'density', 'no_vehicles_entered', 'no_vehicles_exited', 'no_cars_exited',\n",
    "                          'no_taxis_exited', 'no_motorbikes_exited', 'no_buses_exited', 'no_others_exited']\n",
    "    \n",
    "    # define date types\n",
    "    dtypes_link_stats = {'type': 'str', 'update_interval': 'int64', 'id': 'int64', 'length': 'float', 'density': 'float', 'no_vehicles_entered': 'float',\n",
    "                         'no_vehicles_exited': 'float', 'no_cars_exited': 'float', 'no_taxis_exited': 'float', 'no_motorbikes_exited': 'float',\n",
    "                         'no_buses_exited': 'float', 'no_others_exited': 'float'}\n",
    "    \n",
    "    # load link stats data\n",
    "    df_link_stats = pd.read_csv(filepath, names=headers_link_stats, index_col=False, dtype = dtypes_link_stats,\n",
    "                                usecols=['type', 'update_interval', 'id', 'density', 'no_vehicles_exited'])\n",
    "    \n",
    "    return df_link_stats"
   ]
  },
  {
   "cell_type": "code",
   "execution_count": 3,
   "id": "1658768e-3f7e-450d-94ad-00fd37d1279e",
   "metadata": {},
   "outputs": [],
   "source": [
    "def get_link_densities(df_link_stats, df_links, aggregation='day'):\n",
    "    \n",
    "    '''Takes link statistics as input,\n",
    "    calculates average densities for a given aggregation level (day or hour),\n",
    "    and adds geometry information.'''\n",
    "        \n",
    "    # aggregate to day level\n",
    "    if aggregation == 'day':\n",
    "        df_link_densities = df_link_stats[['id','density']].groupby('id').mean()\n",
    "        \n",
    "    # aggregate to hour level\n",
    "    elif aggregation == 'hour':\n",
    "        df_link_densities = df_link_stats.copy()\n",
    "        df_link_densities['update_interval'] = dt.datetime(1900,1,1) + pd.TimedeltaIndex(df_link_densities['update_interval'], unit='m') # define different date instead of 1.1.1900\n",
    "        #df_link_densities['hour'] = df_link_densities.update_interval.dt.hour\n",
    "        df_link_densities['hour'] = df_link_densities.update_interval.dt.floor('H')\n",
    "        df_link_densities = df_link_densities.set_index('id')\n",
    "        df_link_densities = df_link_densities.groupby(['id', 'hour']).mean()\n",
    "    else:\n",
    "        raise Exception(\"Please specify aggregation as either 'day' or 'hour'.\")\n",
    "    \n",
    "    # join geometry data\n",
    "    df_link_densities = df_link_densities.join(other=df_links['geometry'], on='id')\n",
    "    df_link_densities = gpd.GeoDataFrame(df_link_densities, geometry='geometry')\n",
    "    \n",
    "    return df_link_densities"
   ]
  },
  {
   "cell_type": "code",
   "execution_count": 14,
   "id": "2cfe8d81",
   "metadata": {},
   "outputs": [],
   "source": [
    "def load_links_from_csv(filepath:str, epsg):\n",
    "    \n",
    "    '''Loads links from CSV file.'''\n",
    "    \n",
    "    # load data from csv\n",
    "    link_polyline = pd.read_csv(filepath)\n",
    "\n",
    "    # combine x and y coordinates to shapely point\n",
    "    link_polyline['point'] = [Point(xy) for xy in zip(link_polyline.x, link_polyline.y)]\n",
    "    \n",
    "    # initialize new dataframe\n",
    "    links = pd.DataFrame(index=link_polyline.id.unique(), columns=['geometry'])\n",
    "\n",
    "    # create linestrings and addd to initialized data frame\n",
    "    for link_id in links.index: #np.arange(1,1000):#link_polyline.id:\n",
    "        link_segments = link_polyline[link_polyline.id == link_id].sort_values('seq_id')\n",
    "        links.loc[link_id,'geometry']=LineString(link_segments['point'].to_list())\n",
    "        \n",
    "    # convert to geojson\n",
    "    df_links = gpd.GeoDataFrame(links, geometry='geometry')\n",
    "    df_links = df_links.set_crs(epsg=str(epsg), allow_override=True)\n",
    "    df_links = df_links.to_crs(epsg='4326') # necessary if correct CRS is set above?\n",
    "    \n",
    "    return df_links"
   ]
  },
  {
   "cell_type": "markdown",
   "id": "5c0f0882",
   "metadata": {},
   "source": [
    "**6. Specify input parameters**"
   ]
  },
  {
   "cell_type": "markdown",
   "id": "168896d6-486f-473e-a3a2-9cf84406560a",
   "metadata": {},
   "source": [
    "Specify filepaths for data:"
   ]
  },
  {
   "cell_type": "code",
   "execution_count": 5,
   "id": "7733ccd1-418a-45ff-b321-f3973e972077",
   "metadata": {},
   "outputs": [],
   "source": [
    "filepath_link_stats_A = '../Data/Singapore/AMOD/MH-BC/link_stats_file.csv'\n",
    "filepath_link_stats_B = '../Data/Singapore/AMOD/MH-IN/link_stats_file.csv'\n",
    "filepath_links = '../Data/Singapore/AMOD/simmobility_wgs84/link_polyline.csv'"
   ]
  },
  {
   "cell_type": "markdown",
   "id": "66caa2cd-9206-45bb-b2f3-0493c5fd760d",
   "metadata": {},
   "source": [
    "Specify aggregation:\n",
    "- 'day' for static visualization\n",
    "- 'hour' for animated visualization of the 24 hours of the day"
   ]
  },
  {
   "cell_type": "code",
   "execution_count": 6,
   "id": "fa66ff59-4034-44ce-bd5e-2dc287377f19",
   "metadata": {},
   "outputs": [],
   "source": [
    "aggregation = 'day'"
   ]
  },
  {
   "cell_type": "markdown",
   "id": "1e4d2245",
   "metadata": {},
   "source": [
    "Specify EPSG in which links are stored:"
   ]
  },
  {
   "cell_type": "code",
   "execution_count": 7,
   "id": "cdf57b8b",
   "metadata": {},
   "outputs": [],
   "source": [
    "epsg = '4326'"
   ]
  },
  {
   "cell_type": "markdown",
   "id": "e5a672f9-a5c5-4e8f-b9e3-78fbd84a376d",
   "metadata": {},
   "source": [
    "**7. Create visualization**"
   ]
  },
  {
   "cell_type": "code",
   "execution_count": 8,
   "id": "53484be7-f953-4b0f-a311-d3a7e71d5aec",
   "metadata": {},
   "outputs": [],
   "source": [
    "# load link statistics\n",
    "df_link_stats_A = load_link_stats(filepath_link_stats_A)\n",
    "df_link_stats_B = load_link_stats(filepath_link_stats_B)"
   ]
  },
  {
   "cell_type": "code",
   "execution_count": 9,
   "id": "8a4cc9f1",
   "metadata": {},
   "outputs": [],
   "source": [
    "# load links\n",
    "df_links = load_links_from_csv(filepath_links, epsg=epsg)"
   ]
  },
  {
   "cell_type": "code",
   "execution_count": 10,
   "id": "2543da7d-1a6f-4a98-a859-7ac9c1aa60c9",
   "metadata": {},
   "outputs": [],
   "source": [
    "# determine link densities\n",
    "df_link_densities_A = get_link_densities(df_link_stats_A, df_links, aggregation=aggregation)\n",
    "df_link_densities_B = get_link_densities(df_link_stats_B, df_links, aggregation=aggregation)"
   ]
  },
  {
   "cell_type": "code",
   "execution_count": 11,
   "id": "68dc77c1",
   "metadata": {},
   "outputs": [],
   "source": [
    "# create boxplot with link densities\n",
    "if False:\n",
    "    plt.figure(figsize=(25,2))\n",
    "    plt.boxplot(df_link_densities_A.density, sym='.', vert=False)\n",
    "    plt.xlabel('link density')\n",
    "    plt.title('Boxplot link densities scenario A')\n",
    "    plt.show()\n",
    "    \n",
    "    plt.figure(figsize=(25,2))\n",
    "    plt.boxplot(df_link_densities_B.density, sym='.', vert=False)\n",
    "    plt.xlabel('link density')\n",
    "    plt.title('Boxplot link densities scenario B')\n",
    "    plt.show()"
   ]
  },
  {
   "cell_type": "code",
   "execution_count": 12,
   "id": "ec1c0e20",
   "metadata": {},
   "outputs": [],
   "source": [
    "# load the relevant map configuration saved\n",
    "if aggregation == 'day':\n",
    "    %run congestion_daily_scen_comparison_config.py # --> stores configuration in variable 'config'\n",
    "elif aggregation =='hour':\n",
    "    %run congestion_hourly_scen_comparison_config.py # --> stores configuration in variable 'config'\n",
    "else:\n",
    "    raise Exception(\"Please specify aggregation as either 'day' or 'hour'.\")"
   ]
  },
  {
   "cell_type": "code",
   "execution_count": 16,
   "id": "e1a962fd-69a1-4ab7-a0e8-f6c3b116dbe6",
   "metadata": {
    "scrolled": false
   },
   "outputs": [
    {
     "name": "stdout",
     "output_type": "stream",
     "text": [
      "User Guide: https://docs.kepler.gl/docs/keplergl-jupyter\n"
     ]
    },
    {
     "data": {
      "application/vnd.jupyter.widget-view+json": {
       "model_id": "d8de92039725456d9b6b9f952f5cf8af",
       "version_major": 2,
       "version_minor": 0
      },
      "text/plain": [
       "KeplerGl(config={'version': 'v1', 'config': {'visState': {'filters': [{'dataId': ['link_densities_A'], 'id': '…"
      ]
     },
     "metadata": {},
     "output_type": "display_data"
    }
   ],
   "source": [
    "# create visualization in KeplerGL\n",
    "map_congestion = KeplerGl(height=800,\n",
    "                          data={#'link_densities_A': df_link_densities_A[(df_link_densities_A.index.get_level_values('hour').hour < 10)].reset_index(), # restrict hours displayed if required\n",
    "                                #'link_densities_B': df_link_densities_B[(df_link_densities_B.index.get_level_values('hour').hour < 10)].reset_index(), # restrict hours displayed if required\n",
    "                                #'link_densities_A': df_link_densities_A[(df_link_densities_A.index.get_level_values('id') < 10000)].reset_index(), # restrict links displayed if required\n",
    "                                #'link_densities_B': df_link_densities_B[(df_link_densities_B.index.get_level_values('id') < 10000)].reset_index(), # restrict links displayed if required\n",
    "                                'link_densities_A': df_link_densities_A.reset_index(), # don't forget to reset index here!\n",
    "                                'link_densities_B': df_link_densities_B.reset_index(), # don't forget to reset index here!\n",
    "                               },\n",
    "                           config=config,\n",
    "                          )\n",
    "map_congestion"
   ]
  },
  {
   "cell_type": "markdown",
   "id": "5f6894db",
   "metadata": {},
   "source": [
    "**8. Optional**"
   ]
  },
  {
   "cell_type": "markdown",
   "id": "4c489270",
   "metadata": {},
   "source": [
    "Saving new map configuration (optional):  \n",
    "(mind that current configuration files will be overwritten if stored with same filename in same folder!)"
   ]
  },
  {
   "cell_type": "raw",
   "id": "989cc785",
   "metadata": {},
   "source": [
    "# Save map configuration to configuration file\n",
    "\n",
    "if aggregation == 'day':\n",
    "    with open('congestion_daily_scen_comparison_config.py', 'w') as f:\n",
    "        f.write('config = {}'.format(map_congestion.config))\n",
    "elif aggregation =='hour':\n",
    "    with open('congestion_hourly_scen_comparison_config.py', 'w') as f:\n",
    "        f.write('config = {}'.format(map_congestion.config))\n",
    "else:\n",
    "    raise Exception(\"Please specify aggregation as either 'day' or 'hour'.\")"
   ]
  },
  {
   "cell_type": "markdown",
   "id": "15a0b8ee",
   "metadata": {},
   "source": [
    "Saving outputs to files (optional):"
   ]
  },
  {
   "cell_type": "raw",
   "id": "022d6b4b",
   "metadata": {},
   "source": [
    "df_link_densities_A.to_file(\"df_link_densities_A.geojson\", driver='GeoJSON')"
   ]
  },
  {
   "cell_type": "raw",
   "id": "3ff5c33d",
   "metadata": {},
   "source": [
    "df_link_densities_A.to_file(\"df_link_densities_A.json\", driver='GeoJSON')"
   ]
  },
  {
   "cell_type": "raw",
   "id": "4ae16fc4",
   "metadata": {},
   "source": [
    "df_link_densities_A.to_csv(\"df_link_densities_A.csv\")"
   ]
  },
  {
   "cell_type": "code",
   "execution_count": null,
   "id": "dfb7ff9e",
   "metadata": {},
   "outputs": [],
   "source": []
  }
 ],
 "metadata": {
  "kernelspec": {
   "display_name": "Python 3",
   "language": "python",
   "name": "python3"
  },
  "language_info": {
   "codemirror_mode": {
    "name": "ipython",
    "version": 3
   },
   "file_extension": ".py",
   "mimetype": "text/x-python",
   "name": "python",
   "nbconvert_exporter": "python",
   "pygments_lexer": "ipython3",
   "version": "3.8.8"
  }
 },
 "nbformat": 4,
 "nbformat_minor": 5
}
