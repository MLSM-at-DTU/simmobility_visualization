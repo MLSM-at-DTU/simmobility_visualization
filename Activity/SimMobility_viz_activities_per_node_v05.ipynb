{
 "cells": [
  {
   "cell_type": "markdown",
   "id": "721f859e",
   "metadata": {},
   "source": [
    "# SimMobility visualization - Activities"
   ]
  },
  {
   "cell_type": "markdown",
   "id": "5616c4df",
   "metadata": {},
   "source": [
    "Author: Lukas Ralf Schinzel, Master student at Technical University of Denmark (DTU)"
   ]
  },
  {
   "cell_type": "markdown",
   "id": "10d7cbec",
   "metadata": {},
   "source": [
    "**1. Information on Kepler GL Kupyter**"
   ]
  },
  {
   "cell_type": "markdown",
   "id": "9ad2f7c8",
   "metadata": {},
   "source": [
    "Documentation and installation of Kepler GL for Jupyter: https://docs.kepler.gl/docs/keplergl-jupyter  \n",
    "User guide Kepler GL: https://docs.kepler.gl/docs/user-guides  \n",
    "It is recommended to use Kepler GL for Jupyter in a Jupyter Notebook, not in Jupyter Lab."
   ]
  },
  {
   "cell_type": "markdown",
   "id": "128fb633",
   "metadata": {},
   "source": [
    "**2. Visualization concept**"
   ]
  },
  {
   "cell_type": "markdown",
   "id": "fdc7f1a6",
   "metadata": {},
   "source": [
    "This visualization aims to examine how activities shift when changing from one SimMobility scenario to another. It uses a grid plot to display changes in activity for each spatial unit. Animating the visualization with a time slider will provide insights into when these shifts happen during the day. A bar chart provides additional information, disclosing a possible change in citizens’ preferred means of transport for reaching an activity.  \n",
    "The user is offered two options: a view of activity changes aggregated for the entire day in the form of a static visualization, and an animated visualization that shows the percentage change in activities over the 24 hours of the day.  \n",
    "\n",
    "The only input required by the user is to specify the input parameters in section 6. Other than that, it is only expected to rerun the notebook for each new visualization or when input parameters are changed.\n",
    "\n",
    "The default configuration for the visualization in Kepler GL is saved in a Python script, which is automatically loaded from a configuration file when the visualization is created. The visualization can be adjusted using Kepler GL’s user interface."
   ]
  },
  {
   "cell_type": "markdown",
   "id": "df96b3a5",
   "metadata": {},
   "source": [
    "**3. Required data**\n",
    "- DAS (daily activity schedule)\n",
    "- Nodes (network)"
   ]
  },
  {
   "cell_type": "markdown",
   "id": "b3671e74",
   "metadata": {},
   "source": [
    "**4. Libraries**"
   ]
  },
  {
   "cell_type": "code",
   "execution_count": 1,
   "id": "01faceae",
   "metadata": {},
   "outputs": [],
   "source": [
    "# import libraries\n",
    "import numpy as np\n",
    "import pandas as pd\n",
    "import geopandas as gpd\n",
    "from shapely.geometry import Point, LineString\n",
    "import matplotlib.pyplot as plt\n",
    "%matplotlib inline\n",
    "from keplergl import KeplerGl"
   ]
  },
  {
   "cell_type": "markdown",
   "id": "6ff5d05c",
   "metadata": {},
   "source": [
    "**5. Functions**"
   ]
  },
  {
   "cell_type": "code",
   "execution_count": 2,
   "id": "adb48da7",
   "metadata": {},
   "outputs": [],
   "source": [
    "def load_das(filepath:str):\n",
    "    \n",
    "    '''Loads DAS from CSV into pandas data frame (for 18 million entries takes around 3 min to run).'''\n",
    "    \n",
    "    # define date types\n",
    "    dtypes_das = {'person_id': 'str', 'tour_no': 'int64', 'tour_type': 'str', 'stop_no': 'int64', 'stop_type': 'str', 'stop_location': 'str', 'stop_zone': 'str', 'stop_mode': 'str',\n",
    "                  'primary_stop': 'str', 'arrival_time': 'str', 'departure_time': 'str', 'prev_stop_location': 'str', 'prev_stop_zone': 'str', 'prev_stop_departure_time': 'str'}\n",
    "    \n",
    "    datetime_cols_das = ['arrival_time', 'departure_time', 'prev_stop_departure_time']\n",
    "    \n",
    "    # load DAS\n",
    "    df_das = pd.read_csv(filepath, dtype=dtypes_das)\n",
    "    \n",
    "    # correct datetime formats\n",
    "    random_seed = 0\n",
    "    randomize = False\n",
    "    for col in datetime_cols_das:\n",
    "        # correct hours\n",
    "        df_das[col] = df_das[col].str.replace('24.', '0.', regex = True)\n",
    "        df_das[col] = df_das[col].str.replace('25.', '1.', regex = True)\n",
    "        df_das[col] = df_das[col].str.replace('26.', '2.', regex = True)\n",
    "        \n",
    "        # convert fractional hours to minutes\n",
    "        df_das[col] = df_das[col].str.replace('.25', '.15', regex = True)\n",
    "        df_das[col] = df_das[col].str.replace('.75', '.45', regex = True)\n",
    "                              \n",
    "        # convert to datetime\n",
    "        df_das[col] = pd.to_datetime(df_das[col], format = '%H.%M')\n",
    "        df_das[col] = pd.to_datetime(df_das[col], format = '%H.%M')\n",
    "    \n",
    "    # convert primary stop column to boolean\n",
    "    p = {'t': True, 'f': False}\n",
    "    df_das['primary_stop'].map(p)\n",
    "    \n",
    "    return df_das"
   ]
  },
  {
   "cell_type": "code",
   "execution_count": 3,
   "id": "715872a8",
   "metadata": {},
   "outputs": [],
   "source": [
    "def get_activities(df_das):\n",
    "    \n",
    "    # reduce DAS to relevant columns\n",
    "    activity_columns = ['person_id',# person ID, CURRENTLY NOT USED\n",
    "                        'stop_type', # activity\n",
    "                        'stop_location', # node\n",
    "                        'stop_zone', # zone, CURRENTLY NOT USED\n",
    "                        'stop_mode', # transport mode\n",
    "                        'arrival_time']\n",
    "    df_das = df_das[activity_columns]\n",
    "    df_das.loc[:,'stop_location'] = df_das['stop_location'].astype(str)\n",
    "    \n",
    "    # get correct person ID that corresponds to the one in population table NECESSARY?\n",
    "    df_das.loc[:,'person_id'] = df_das['person_id'].str.split('-', expand=True)[0] # remove digits after the dash\n",
    "    df_das.loc[:,'person_id'] = df_das['person_id'].str[0:9] # reduce person ID to 9 digit number (rest assumed to not describe the person but a trip/subtrip)\n",
    "    \n",
    "    # rename columns \n",
    "    df_activities = df_das.rename(columns = {'stop_location': 'node_id'})\n",
    "    \n",
    "    return df_activities"
   ]
  },
  {
   "cell_type": "code",
   "execution_count": 4,
   "id": "28b5de03",
   "metadata": {},
   "outputs": [],
   "source": [
    "def get_activity_differences_per_node(df_activities_A, df_activities_B, df_nodes, filter_activity = None):\n",
    "    \n",
    "    '''Intakes activity data and aggregates it to hourly data per node.'''\n",
    "    \n",
    "    # filter activity\n",
    "    if filter_activity != None:\n",
    "        df_activities_A = df_activities_A[df_activities_A['stop_type'] == filter_activity]\n",
    "        df_activities_B = df_activities_B[df_activities_B['stop_type'] == filter_activity]\n",
    "    \n",
    "    # round to hourly steps\n",
    "    df_activities_A.loc[:,'hour'] = df_activities_A.loc[:,'arrival_time'].dt.floor('H')\n",
    "    df_activities_B.loc[:,'hour'] = df_activities_B.loc[:,'arrival_time'].dt.floor('H')\n",
    "    \n",
    "    # calculate activity stats\n",
    "    df_activities_A_counts = pd.DataFrame(data=df_activities_A.groupby(['node_id','hour']).size(), columns=['count_A'])#[100:] # USE STOP_ZONE INSTEAD OF NODE_ID AS SOON AS ZONES ARE AVAILABLE\n",
    "    df_activities_B_counts = pd.DataFrame(data=df_activities_B.groupby(['node_id','hour']).size(), columns=['count_B'])#[:-100] # USE STOP_ZONE INSTEAD OF NODE_ID AS SOON AS ZONES ARE AVAILABLE\n",
    "    \n",
    "    # concatenate the two activity dataframes\n",
    "    df_activity_changes = pd.concat([df_activities_A_counts, df_activities_B_counts], axis=1).fillna(0)\n",
    "    \n",
    "    # calculate percentage change for each node\n",
    "    df_activity_changes.loc[:,'delta_count'] = (df_activity_changes['count_B'] - df_activity_changes['count_A'])\n",
    "    df_activity_changes.loc[:,'delta_count_[%]'] = (df_activity_changes['count_B'] - df_activity_changes['count_A'])*100 / df_activity_changes['count_A']\n",
    "    \n",
    "    # replace infinite values with NaN (from: https://stackoverflow.com/questions/17477979/dropping-infinite-values-from-dataframes-in-pandas)\n",
    "    df_activity_changes.replace([np.inf, -np.inf], np.nan, inplace=True)\n",
    "    \n",
    "    # reduce nodes to relevant columns and rename # NOT NEEDED\n",
    "    node_columns = ['id',\n",
    "                    'x', # longitude\n",
    "                    'y'] # latitude\n",
    "    df_nodes = df_nodes[node_columns]\n",
    "    df_nodes.loc[:,'id'] = df_nodes.loc[:,'id'].astype(str)\n",
    "    df_nodes = df_nodes.rename(columns = {'x': 'longitude', 'y': 'latitude'})\n",
    "    #df_nodes = df_nodes.set_index('node_id')\n",
    "\n",
    "    # add location data on activity dataframe\n",
    "    df_activity_changes = df_activity_changes.join(other = df_nodes.set_index('id'), on = 'node_id', how='left')\n",
    "    \n",
    "    return df_activity_changes"
   ]
  },
  {
   "cell_type": "code",
   "execution_count": 5,
   "id": "cc308d46",
   "metadata": {},
   "outputs": [],
   "source": [
    "def get_percentage_mode_changes_for_activities(df_activities_A, df_activities_B, filter_activity = None):\n",
    "    \n",
    "    # filter activity\n",
    "    if filter_activity != None:\n",
    "        df_activities_A = df_activities_A[df_activities_A['stop_type'] == filter_activity]\n",
    "        df_activities_B = df_activities_B[df_activities_B['stop_type'] == filter_activity]\n",
    "    \n",
    "    # calculate activity stats\n",
    "    df_activities_A_stats = pd.DataFrame(data=df_activities_A.groupby('stop_mode').size(), columns=['count'])\n",
    "    df_activities_B_stats = pd.DataFrame(data=df_activities_B.groupby('stop_mode').size(), columns=['count'])\n",
    "    df_activities_A_stats['percentage_share'] = df_activities_A_stats['count']/sum(df_activities_A_stats['count'])*100\n",
    "    df_activities_B_stats['percentage_share'] = df_activities_B_stats['count']/sum(df_activities_B_stats['count'])*100\n",
    "    \n",
    "    # join dataframes\n",
    "    df_activities_stats = df_activities_A_stats.join(other = df_activities_B_stats, lsuffix = '_A', rsuffix = '_B')\n",
    "    \n",
    "    # create bar plot\n",
    "    df_activities_stats.plot(y = ['percentage_share_B', 'percentage_share_A'], kind = 'barh',\n",
    "                             color = [(0.77, 0.0, 0.05), (0, 0, 0.4)], legend = 'reverse',\n",
    "                             label = ['Mode share scenario B', 'Mode share scenario A'])\n",
    "    plt.xlabel('Percentage share [%]')\n",
    "    plt.ylabel('')\n",
    "    plt.title('Transport modes used to reach the activit{}'.format('ies' if filter_activity == None else str('y ' + filter_activity)))\n",
    "    plt.show()\n",
    "    \n",
    "    return df_activities_stats"
   ]
  },
  {
   "cell_type": "code",
   "execution_count": 6,
   "id": "99d2ae40",
   "metadata": {},
   "outputs": [],
   "source": [
    "def load_nodes(filepath_nodes:str, epsg):\n",
    "\n",
    "    '''Loads node data from CSV.'''\n",
    "    \n",
    "    # load data\n",
    "    df_nodes = pd.read_csv(filepath_nodes)\n",
    "    df_nodes['id'] = df_nodes['id'].astype(str)\n",
    "    \n",
    "    # combine x and y coordinates to shapely point\n",
    "    df_nodes['geometry'] = [Point(xy) for xy in zip(df_nodes.x, df_nodes.y)]\n",
    "    \n",
    "    # convert to geopandas data frame\n",
    "    #df_nodes = gpd.GeoDataFrame(df_nodes, geometry='geometry')\n",
    "    \n",
    "    # set and convert CRS\n",
    "    #df_nodes = df_nodes.set_crs(epsg=str(epsg))\n",
    "    #df_nodes = df_nodes.to_crs(epsg='4326') # necessary if correct CRS is set above?\n",
    "    \n",
    "    return df_nodes"
   ]
  },
  {
   "cell_type": "code",
   "execution_count": 7,
   "id": "1da5be4c",
   "metadata": {},
   "outputs": [],
   "source": [
    "def adjust_to_hourly_activity_changes(df_activity_changes):\n",
    "    \n",
    "    '''Adding min and max to each hour in order to enable consistent colour scaling.\n",
    "    Necessary until colour scale value customization possible in Kepler GL\n",
    "    (see: https://github.com/keplergl/kepler.gl/issues/399).'''\n",
    "    \n",
    "    # select a random node containing all 24h\n",
    "    df_add = None\n",
    "    ok = False\n",
    "    while ok == False:\n",
    "        rand_int = np.random.randint(0,len(df_activity_changes)/24)\n",
    "        random_node = df_activity_changes.index.get_level_values('node_id')[rand_int]\n",
    "        df_add = df_activity_changes[df_activity_changes.index.get_level_values('node_id') == random_node]\n",
    "        if len(df_add) == 24:\n",
    "            ok = True\n",
    "\n",
    "    df_add_min = df_add.copy()\n",
    "    df_add_max = df_add.copy()\n",
    "\n",
    "    for col in ['count_A','count_B','delta_count','delta_count_[%]']:\n",
    "        min_value = df_activity_changes[col].min()\n",
    "        max_value = df_activity_changes[col].max()\n",
    "\n",
    "        df_add_min[col] = min_value\n",
    "        df_add_max[col] = max_value\n",
    "\n",
    "    # determine random location\n",
    "    df_add_min['longitude'] = -70.0\n",
    "    df_add_max['longitude'] = -70.0\n",
    "    df_add_min['latitude'] = 41.0\n",
    "    df_add_max['latitude'] = 42.0\n",
    "\n",
    "    # change indices to not create a duplicate\n",
    "    #df_add_min.index = df_add_min.index.set_levels(levels=['999999998'],level=0) # replaces the first index level (node id) with '999999998'\n",
    "    #df_add_max.index = df_add_max.index.set_levels(levels=['999999999'],level=0) # replaces the first index level (node id) with '999999999'\n",
    "\n",
    "    # add these two atificial nodes to data frame\n",
    "    df_activity_changes_2 = df_activity_changes.append(df_add_min)#, verify_integrity=True)\n",
    "    df_activity_changes_3 = df_activity_changes_2.append(df_add_max)#, verify_integrity=True)\n",
    "    \n",
    "    return df_activity_changes_3"
   ]
  },
  {
   "cell_type": "markdown",
   "id": "394d43cc",
   "metadata": {},
   "source": [
    "**6. Create visualization**"
   ]
  },
  {
   "cell_type": "markdown",
   "id": "4bc1ae5c",
   "metadata": {},
   "source": [
    "Specify filepaths for data:"
   ]
  },
  {
   "cell_type": "code",
   "execution_count": 8,
   "id": "18a8788c",
   "metadata": {},
   "outputs": [],
   "source": [
    "# DAS for scenario A and B\n",
    "filepath_das_A = '../Data/Boston/DTU/Boston_Lukas/das_base_1104.csv'\n",
    "filepath_das_B = '../Data/Boston/DTU/Boston_Lukas/das_cordontoll1204.csv'\n",
    "\n",
    "# nodes\n",
    "filepath_nodes = '../Data/Boston/DTU/Boston_Lukas/node_wgs84.csv'"
   ]
  },
  {
   "cell_type": "markdown",
   "id": "22e18828",
   "metadata": {},
   "source": [
    "Specify activity (either 'Work', 'Shop', 'Other' or None):"
   ]
  },
  {
   "cell_type": "code",
   "execution_count": 28,
   "id": "ce8648a7",
   "metadata": {},
   "outputs": [],
   "source": [
    "filter_activity = 'Work'"
   ]
  },
  {
   "cell_type": "markdown",
   "id": "dcb7afdd",
   "metadata": {},
   "source": [
    "Specify aggregation:\n",
    "- 'day' for static visualization\n",
    "- 'hour' for animated visualization of the 24 hours of the day"
   ]
  },
  {
   "cell_type": "code",
   "execution_count": 15,
   "id": "b02ae888",
   "metadata": {},
   "outputs": [],
   "source": [
    "aggregation = 'day'"
   ]
  },
  {
   "cell_type": "markdown",
   "id": "391e2fb2",
   "metadata": {},
   "source": [
    "Specify EPSG in which zones are stored:"
   ]
  },
  {
   "cell_type": "code",
   "execution_count": 11,
   "id": "194bb1ac",
   "metadata": {},
   "outputs": [],
   "source": [
    "epsg = '4326'"
   ]
  },
  {
   "cell_type": "markdown",
   "id": "893faf92",
   "metadata": {},
   "source": [
    "**7. Create visualization:**"
   ]
  },
  {
   "cell_type": "code",
   "execution_count": 12,
   "id": "42299fb3",
   "metadata": {},
   "outputs": [],
   "source": [
    "# load data\n",
    "df_das_A = load_das(filepath_das_A)\n",
    "df_das_B = load_das(filepath_das_B)\n",
    "df_nodes = load_nodes(filepath_nodes, epsg=epsg)"
   ]
  },
  {
   "cell_type": "code",
   "execution_count": 13,
   "id": "86151adc",
   "metadata": {},
   "outputs": [
    {
     "name": "stderr",
     "output_type": "stream",
     "text": [
      "/opt/anaconda3/lib/python3.8/site-packages/pandas/core/indexing.py:1676: SettingWithCopyWarning: \n",
      "A value is trying to be set on a copy of a slice from a DataFrame.\n",
      "Try using .loc[row_indexer,col_indexer] = value instead\n",
      "\n",
      "See the caveats in the documentation: https://pandas.pydata.org/pandas-docs/stable/user_guide/indexing.html#returning-a-view-versus-a-copy\n",
      "  self._setitem_single_column(ilocs[0], value, pi)\n"
     ]
    }
   ],
   "source": [
    "# get activities\n",
    "df_activities_A = get_activities(df_das = df_das_A)\n",
    "df_activities_B = get_activities(df_das = df_das_B)"
   ]
  },
  {
   "cell_type": "code",
   "execution_count": 29,
   "id": "7c64cadc",
   "metadata": {},
   "outputs": [
    {
     "name": "stderr",
     "output_type": "stream",
     "text": [
      "/opt/anaconda3/lib/python3.8/site-packages/pandas/core/indexing.py:1676: SettingWithCopyWarning: \n",
      "A value is trying to be set on a copy of a slice from a DataFrame.\n",
      "Try using .loc[row_indexer,col_indexer] = value instead\n",
      "\n",
      "See the caveats in the documentation: https://pandas.pydata.org/pandas-docs/stable/user_guide/indexing.html#returning-a-view-versus-a-copy\n",
      "  self._setitem_single_column(ilocs[0], value, pi)\n"
     ]
    }
   ],
   "source": [
    "# get activity changes\n",
    "df_activity_changes = get_activity_differences_per_node(df_activities_A,\n",
    "                                                        df_activities_B,\n",
    "                                                        df_nodes, filter_activity = filter_activity)"
   ]
  },
  {
   "cell_type": "code",
   "execution_count": 30,
   "id": "af3b47f6",
   "metadata": {},
   "outputs": [],
   "source": [
    "# restrict increase in activity changes to 100% to ensure consistent colouring\n",
    "# (necessary until colour scale value customization possible in Kepler GL, see: https://github.com/keplergl/kepler.gl/issues/399)\n",
    "\n",
    "df_activity_changes['delta_count_[%]'][df_activity_changes['delta_count_[%]'] > 100] = 100"
   ]
  },
  {
   "cell_type": "code",
   "execution_count": 31,
   "id": "903685ec",
   "metadata": {},
   "outputs": [],
   "source": [
    "# adding min an max to each hour in order to enable consistent colour scaling\n",
    "# (necessary until colour scale value customization possible in Kepler GL, see: https://github.com/keplergl/kepler.gl/issues/399)\n",
    "\n",
    "df_activity_changes_3 = adjust_to_hourly_activity_changes(df_activity_changes)"
   ]
  },
  {
   "cell_type": "code",
   "execution_count": 32,
   "id": "6d16616d",
   "metadata": {},
   "outputs": [
    {
     "data": {
      "text/plain": [
       "<Figure size 432x288 with 0 Axes>"
      ]
     },
     "metadata": {},
     "output_type": "display_data"
    }
   ],
   "source": [
    "# load the map configuration saved\n",
    "\n",
    "# for aggregation day (grid plot)\n",
    "if aggregation == 'day':\n",
    "    %run activities_config.py # --> stores configuration in variable 'config'\n",
    "    df = df_activity_changes\n",
    "\n",
    "# for hourly aggregation (point plot)\n",
    "elif aggregation == 'hour':\n",
    "    %run activities_point_config.py # --> stores configuration in variable 'config'\n",
    "    df = df_activity_changes_3\n",
    "\n",
    "else:\n",
    "    raise Exception(\"Please specify aggregation as either 'day' or 'hour'.\")"
   ]
  },
  {
   "cell_type": "code",
   "execution_count": null,
   "id": "530e3ed6",
   "metadata": {
    "scrolled": false
   },
   "outputs": [],
   "source": [
    "# create map\n",
    "map_activities = KeplerGl(height=800, data={\"activity_changes\": df.reset_index()}, config=config) # don't forget to reset index here\n",
    "map_activities"
   ]
  },
  {
   "cell_type": "code",
   "execution_count": 34,
   "id": "64664221",
   "metadata": {},
   "outputs": [
    {
     "data": {
      "image/png": "[encoded data removed]",
      "text/plain": [
       "<Figure size 432x288 with 1 Axes>"
      ]
     },
     "metadata": {
      "needs_background": "light"
     },
     "output_type": "display_data"
    }
   ],
   "source": [
    "# plot additional informative charts\n",
    "df_activities_stats = get_percentage_mode_changes_for_activities(df_activities_A,\n",
    "                                                                 df_activities_B,\n",
    "                                                                 filter_activity = filter_activity)"
   ]
  },
  {
   "cell_type": "markdown",
   "id": "353c6f80",
   "metadata": {},
   "source": [
    "**8. Optional**"
   ]
  },
  {
   "cell_type": "markdown",
   "id": "cd6f015e",
   "metadata": {},
   "source": [
    "Saving new map configuration (optional):  \n",
    "(mind that current configuration files will be overwritten if stored with same filename in same folder!)"
   ]
  },
  {
   "cell_type": "raw",
   "id": "388f517c",
   "metadata": {
    "scrolled": true
   },
   "source": [
    "# Save map_activities configuration to a file\n",
    "if aggregation == 'day':\n",
    "    with open('activities_config.py', 'w') as f:\n",
    "        f.write('config = {}'.format(map_activities.config))\n",
    "elif aggregation == 'hour':\n",
    "    with open('activities_point_config.py', 'w') as f:\n",
    "        f.write('config = {}'.format(map_activities.config))\n",
    "else:\n",
    "    raise Exception(\"Please specify aggregation as either 'day' or 'hour'.\")"
   ]
  },
  {
   "cell_type": "code",
   "execution_count": null,
   "id": "2a4c3eac",
   "metadata": {},
   "outputs": [],
   "source": []
  }
 ],
 "metadata": {
  "kernelspec": {
   "display_name": "Python 3",
   "language": "python",
   "name": "python3"
  },
  "language_info": {
   "codemirror_mode": {
    "name": "ipython",
    "version": 3
   },
   "file_extension": ".py",
   "mimetype": "text/x-python",
   "name": "python",
   "nbconvert_exporter": "python",
   "pygments_lexer": "ipython3",
   "version": "3.8.8"
  }
 },
 "nbformat": 4,
 "nbformat_minor": 5
}
